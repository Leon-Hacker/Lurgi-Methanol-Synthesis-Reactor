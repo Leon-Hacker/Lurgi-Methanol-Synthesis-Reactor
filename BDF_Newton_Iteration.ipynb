{
 "cells": [
  {
   "cell_type": "markdown",
   "id": "28e2e87a",
   "metadata": {},
   "source": [
    "# 🧠 Newton Iteration in `solve_ivp(method='BDF')`"
   ]
  },
  {
   "cell_type": "markdown",
   "id": "2af1d50c",
   "metadata": {},
   "source": [
    "---"
   ]
  },
  {
   "cell_type": "markdown",
   "id": "c17caa7c",
   "metadata": {},
   "source": [
    "In this model, the plug flow reactor (PFR) simulation is solved using `scipy.integrate.solve_ivp` with the **BDF (Backward Differentiation Formula)** method, which is well-suited for stiff ODE systems."
   ]
  },
  {
   "cell_type": "markdown",
   "id": "0599bd5e",
   "metadata": {},
   "source": [
    "Internally, the BDF method employs the **Newton-Raphson iteration** at each step to solve the nonlinear algebraic system arising from the implicit formulation:"
   ]
  },
  {
   "cell_type": "markdown",
   "id": "316c0fad",
   "metadata": {},
   "source": [
    "$$ G(Y_{n+1}) = Y_{n+1} - h \\cdot f(W_{n+1}, Y_{n+1}) - Y_n = 0 $$"
   ]
  },
  {
   "cell_type": "markdown",
   "id": "fe28194d",
   "metadata": {},
   "source": [
    "To find the next value $Y_{n+1}$, the Newton iteration solves:"
   ]
  },
  {
   "cell_type": "markdown",
   "id": "22404886",
   "metadata": {},
   "source": [
    "$$ Y^{(k+1)} = Y^{(k)} - [J]^{-1} \\cdot G(Y^{(k)}) $$"
   ]
  },
  {
   "cell_type": "markdown",
   "id": "2b83935b",
   "metadata": {},
   "source": [
    "where $J = \\frac{\\partial G}{\\partial Y}$ is the Jacobian matrix. This iteration continues until convergence (i.e., $\\\\|G(Y^{(k)})\\\\|$ is sufficiently small)."
   ]
  }
 ],
 "metadata": {
  "kernelspec": {
   "display_name": "Python 3",
   "name": "python3"
  }
 },
 "nbformat": 4,
 "nbformat_minor": 5
}
